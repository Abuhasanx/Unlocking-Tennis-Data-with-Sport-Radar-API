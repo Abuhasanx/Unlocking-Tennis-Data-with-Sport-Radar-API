{
 "cells": [
  {
   "cell_type": "code",
   "execution_count": null,
   "metadata": {},
   "outputs": [],
   "source": [
    "import requests\n",
    "\n",
    "url = \"https://api.sportradar.com/tennis/trial/v3/en/competitions.json?api_key=IEpNyO2jLKc90B59huA9Jr4DfHTSvn5ZJpXDqE41\"\n",
    "\n",
    "headers = {\"accept\": \"application/json\"}\n",
    "\n",
    "response = requests.get(url, headers=headers)\n",
    "\n",
    "\n",
    "\n",
    "\n",
    "#so we imported data from sportradar api data\n"
   ]
  },
  {
   "cell_type": "code",
   "execution_count": 32,
   "metadata": {},
   "outputs": [],
   "source": [
    "json_data=response.json()\n",
    "\n",
    "#so i am converting json into dictionary format hence to convert into data frame to proceede "
   ]
  },
  {
   "cell_type": "code",
   "execution_count": 33,
   "metadata": {},
   "outputs": [],
   "source": [
    "all_competitions = []\n",
    "\n",
    "#an empty list\n"
   ]
  },
  {
   "cell_type": "code",
   "execution_count": 34,
   "metadata": {},
   "outputs": [],
   "source": [
    "for competition in json_data[\"competitions\"]:  #why?  #so i used for loop to call all the list present in the given data \n",
    "        \n",
    "        \n",
    "        competition_info = {\n",
    "            \"id\": competition.get(\"id\"),\n",
    "            \"name\": competition.get(\"name\"),\n",
    "            \"type\": competition.get(\"type\"),\n",
    "            \"gender\": competition.get(\"gender\"),\n",
    "            \"category_id\": competition.get(\"category\", {}).get(\"id\"),\n",
    "            \"parent_id\": competition.get(\"parent_id\")\n",
    "    \n",
    "            \n",
    "        \n",
    "        }\n",
    "\n",
    "        all_competitions.append(competition_info)\n",
    "\n"
   ]
  },
  {
   "cell_type": "code",
   "execution_count": 35,
   "metadata": {},
   "outputs": [],
   "source": [
    "import pandas as pd"
   ]
  },
  {
   "cell_type": "code",
   "execution_count": 36,
   "metadata": {},
   "outputs": [],
   "source": [
    "df = pd.DataFrame(all_competitions)"
   ]
  },
  {
   "cell_type": "code",
   "execution_count": 40,
   "metadata": {},
   "outputs": [
    {
     "data": {
      "text/plain": [
       "id             5798\n",
       "name           5798\n",
       "type           5798\n",
       "gender         5798\n",
       "category_id    5798\n",
       "parent_id      5798\n",
       "dtype: int64"
      ]
     },
     "execution_count": 40,
     "metadata": {},
     "output_type": "execute_result"
    }
   ],
   "source": [
    "df.count()"
   ]
  },
  {
   "cell_type": "code",
   "execution_count": 38,
   "metadata": {},
   "outputs": [],
   "source": [
    "df.fillna(\"NOT\",inplace=True)"
   ]
  },
  {
   "cell_type": "code",
   "execution_count": null,
   "metadata": {},
   "outputs": [],
   "source": [
    "df.count()"
   ]
  },
  {
   "cell_type": "code",
   "execution_count": 18,
   "metadata": {},
   "outputs": [
    {
     "data": {
      "text/plain": [
       "(5796, 6)"
      ]
     },
     "execution_count": 18,
     "metadata": {},
     "output_type": "execute_result"
    }
   ],
   "source": [
    "df.shape"
   ]
  },
  {
   "cell_type": "code",
   "execution_count": null,
   "metadata": {},
   "outputs": [],
   "source": [
    "df"
   ]
  },
  {
   "cell_type": "code",
   "execution_count": 42,
   "metadata": {},
   "outputs": [],
   "source": [
    "df.to_csv(\"table_1.csv\",index=False)"
   ]
  },
  {
   "cell_type": "code",
   "execution_count": 16,
   "metadata": {},
   "outputs": [],
   "source": [
    "import pandas as pd"
   ]
  },
  {
   "cell_type": "code",
   "execution_count": 11,
   "metadata": {},
   "outputs": [],
   "source": [
    "all_category=[]"
   ]
  },
  {
   "cell_type": "code",
   "execution_count": 12,
   "metadata": {},
   "outputs": [],
   "source": [
    "\n",
    "for category in json_data[\"competitions\"]:\n",
    "     category_info = {\n",
    "          \"category_id\": category.get(\"category\", {}).get(\"id\"),\n",
    "          \"category_name\": category.get(\"category\", {}).get(\"name\")\n",
    "        \n",
    "     }\n",
    "     all_category.append(category_info)"
   ]
  },
  {
   "cell_type": "code",
   "execution_count": 13,
   "metadata": {},
   "outputs": [],
   "source": [
    "df2=pd.DataFrame(all_category)"
   ]
  },
  {
   "cell_type": "code",
   "execution_count": null,
   "metadata": {},
   "outputs": [],
   "source": [
    "df2"
   ]
  },
  {
   "cell_type": "code",
   "execution_count": 21,
   "metadata": {},
   "outputs": [
    {
     "data": {
      "text/plain": [
       "category_id      5798\n",
       "category_name    5798\n",
       "dtype: int64"
      ]
     },
     "execution_count": 21,
     "metadata": {},
     "output_type": "execute_result"
    }
   ],
   "source": [
    "df2.count()"
   ]
  },
  {
   "cell_type": "code",
   "execution_count": 23,
   "metadata": {},
   "outputs": [
    {
     "data": {
      "text/plain": [
       "category_id      16\n",
       "category_name    16\n",
       "dtype: int64"
      ]
     },
     "execution_count": 23,
     "metadata": {},
     "output_type": "execute_result"
    }
   ],
   "source": [
    "df2.nunique()"
   ]
  },
  {
   "cell_type": "code",
   "execution_count": 24,
   "metadata": {},
   "outputs": [],
   "source": [
    "df2.drop_duplicates(inplace=True)"
   ]
  },
  {
   "cell_type": "code",
   "execution_count": 25,
   "metadata": {},
   "outputs": [
    {
     "data": {
      "text/html": [
       "<div>\n",
       "<style scoped>\n",
       "    .dataframe tbody tr th:only-of-type {\n",
       "        vertical-align: middle;\n",
       "    }\n",
       "\n",
       "    .dataframe tbody tr th {\n",
       "        vertical-align: top;\n",
       "    }\n",
       "\n",
       "    .dataframe thead th {\n",
       "        text-align: right;\n",
       "    }\n",
       "</style>\n",
       "<table border=\"1\" class=\"dataframe\">\n",
       "  <thead>\n",
       "    <tr style=\"text-align: right;\">\n",
       "      <th></th>\n",
       "      <th>category_id</th>\n",
       "      <th>category_name</th>\n",
       "    </tr>\n",
       "  </thead>\n",
       "  <tbody>\n",
       "    <tr>\n",
       "      <th>0</th>\n",
       "      <td>sr:category:181</td>\n",
       "      <td>Hopman Cup</td>\n",
       "    </tr>\n",
       "    <tr>\n",
       "      <th>1</th>\n",
       "      <td>sr:category:3</td>\n",
       "      <td>ATP</td>\n",
       "    </tr>\n",
       "    <tr>\n",
       "      <th>2</th>\n",
       "      <td>sr:category:72</td>\n",
       "      <td>Challenger</td>\n",
       "    </tr>\n",
       "    <tr>\n",
       "      <th>3</th>\n",
       "      <td>sr:category:6</td>\n",
       "      <td>WTA</td>\n",
       "    </tr>\n",
       "    <tr>\n",
       "      <th>4</th>\n",
       "      <td>sr:category:76</td>\n",
       "      <td>Davis Cup</td>\n",
       "    </tr>\n",
       "    <tr>\n",
       "      <th>5</th>\n",
       "      <td>sr:category:74</td>\n",
       "      <td>Federation Cup</td>\n",
       "    </tr>\n",
       "    <tr>\n",
       "      <th>356</th>\n",
       "      <td>sr:category:785</td>\n",
       "      <td>ITF Men</td>\n",
       "    </tr>\n",
       "    <tr>\n",
       "      <th>374</th>\n",
       "      <td>sr:category:213</td>\n",
       "      <td>ITF Women</td>\n",
       "    </tr>\n",
       "    <tr>\n",
       "      <th>679</th>\n",
       "      <td>sr:category:871</td>\n",
       "      <td>WTA 125K</td>\n",
       "    </tr>\n",
       "    <tr>\n",
       "      <th>920</th>\n",
       "      <td>sr:category:1012</td>\n",
       "      <td>IPTL</td>\n",
       "    </tr>\n",
       "    <tr>\n",
       "      <th>921</th>\n",
       "      <td>sr:category:79</td>\n",
       "      <td>Exhibition</td>\n",
       "    </tr>\n",
       "    <tr>\n",
       "      <th>1339</th>\n",
       "      <td>sr:category:1474</td>\n",
       "      <td>Juniors</td>\n",
       "    </tr>\n",
       "    <tr>\n",
       "      <th>1343</th>\n",
       "      <td>sr:category:1476</td>\n",
       "      <td>Wheelchairs</td>\n",
       "    </tr>\n",
       "    <tr>\n",
       "      <th>1347</th>\n",
       "      <td>sr:category:1475</td>\n",
       "      <td>Legends</td>\n",
       "    </tr>\n",
       "    <tr>\n",
       "      <th>4848</th>\n",
       "      <td>sr:category:2400</td>\n",
       "      <td>Wheelchairs Juniors</td>\n",
       "    </tr>\n",
       "    <tr>\n",
       "      <th>5009</th>\n",
       "      <td>sr:category:2414</td>\n",
       "      <td>United Cup</td>\n",
       "    </tr>\n",
       "  </tbody>\n",
       "</table>\n",
       "</div>"
      ],
      "text/plain": [
       "           category_id        category_name\n",
       "0      sr:category:181           Hopman Cup\n",
       "1        sr:category:3                  ATP\n",
       "2       sr:category:72           Challenger\n",
       "3        sr:category:6                  WTA\n",
       "4       sr:category:76            Davis Cup\n",
       "5       sr:category:74       Federation Cup\n",
       "356    sr:category:785              ITF Men\n",
       "374    sr:category:213            ITF Women\n",
       "679    sr:category:871             WTA 125K\n",
       "920   sr:category:1012                 IPTL\n",
       "921     sr:category:79           Exhibition\n",
       "1339  sr:category:1474              Juniors\n",
       "1343  sr:category:1476          Wheelchairs\n",
       "1347  sr:category:1475              Legends\n",
       "4848  sr:category:2400  Wheelchairs Juniors\n",
       "5009  sr:category:2414           United Cup"
      ]
     },
     "execution_count": 25,
     "metadata": {},
     "output_type": "execute_result"
    }
   ],
   "source": [
    "df2"
   ]
  },
  {
   "cell_type": "code",
   "execution_count": 26,
   "metadata": {},
   "outputs": [],
   "source": [
    "df2.to_csv(\"table_2.csv\",index=False)"
   ]
  },
  {
   "cell_type": "markdown",
   "metadata": {},
   "source": [
    "COMPLEXES DATA"
   ]
  },
  {
   "cell_type": "code",
   "execution_count": null,
   "metadata": {},
   "outputs": [],
   "source": [
    "import requests\n",
    "\n",
    "url = \"https://api.sportradar.com/tennis/trial/v3/en/complexes.json?api_key=IEpNyO2jLKc90B59huA9Jr4DfHTSvn5ZJpXDqE41\"\n",
    "\n",
    "headers = {\"accept\": \"application/json\"}\n",
    "\n",
    "response = requests.get(url, headers=headers)\n",
    "\n",
    "print(response.text)"
   ]
  },
  {
   "cell_type": "code",
   "execution_count": 53,
   "metadata": {},
   "outputs": [],
   "source": [
    "json_compdata=response.json()"
   ]
  },
  {
   "cell_type": "code",
   "execution_count": 54,
   "metadata": {},
   "outputs": [],
   "source": [
    "comp_data=[]"
   ]
  },
  {
   "cell_type": "code",
   "execution_count": 55,
   "metadata": {},
   "outputs": [],
   "source": [
    "for complexes in json_compdata[\"complexes\"]:\n",
    "     complexes_info = {\n",
    "          \"complex_id\": complexes.get(\"id\"),\n",
    "          \"complex_name\": complexes.get(\"name\")\n",
    "        \n",
    "     }\n",
    "     comp_data.append(complexes_info)"
   ]
  },
  {
   "cell_type": "code",
   "execution_count": 56,
   "metadata": {},
   "outputs": [],
   "source": [
    "df3=pd.DataFrame(comp_data)"
   ]
  },
  {
   "cell_type": "code",
   "execution_count": null,
   "metadata": {},
   "outputs": [],
   "source": [
    "df3"
   ]
  },
  {
   "cell_type": "code",
   "execution_count": 58,
   "metadata": {},
   "outputs": [
    {
     "data": {
      "text/plain": [
       "complex_id      609\n",
       "complex_name    609\n",
       "dtype: int64"
      ]
     },
     "execution_count": 58,
     "metadata": {},
     "output_type": "execute_result"
    }
   ],
   "source": [
    "df3.count()"
   ]
  },
  {
   "cell_type": "code",
   "execution_count": 59,
   "metadata": {},
   "outputs": [],
   "source": [
    "df3.to_csv(\"table_3.csv\",index=False)"
   ]
  },
  {
   "cell_type": "code",
   "execution_count": 35,
   "metadata": {},
   "outputs": [],
   "source": [
    "venue_data=[]"
   ]
  },
  {
   "cell_type": "code",
   "execution_count": 36,
   "metadata": {},
   "outputs": [],
   "source": [
    "complexes = json_compdata['complexes']"
   ]
  },
  {
   "cell_type": "code",
   "execution_count": 37,
   "metadata": {},
   "outputs": [],
   "source": [
    "for complex_info in json_compdata[\"complexes\"]:\n",
    "    for venue in complex_info.get('venues', []):\n",
    "        venue_info = {\n",
    "            \"complex_id\": complex_info['id'],\n",
    "            \n",
    "            \"venue_id\": venue['id'],\n",
    "            \"venue_name\": venue['name'],\n",
    "            \"city_name\": venue['city_name'],\n",
    "            \"country_name\": venue['country_name'],\n",
    "            \"country_code\": venue['country_code'],\n",
    "            \"timezone\": venue['timezone']\n",
    "        }\n",
    "        venue_data.append(venue_info)"
   ]
  },
  {
   "cell_type": "code",
   "execution_count": 38,
   "metadata": {},
   "outputs": [],
   "source": [
    "df4=pd.DataFrame(venue_data)"
   ]
  },
  {
   "cell_type": "code",
   "execution_count": null,
   "metadata": {},
   "outputs": [],
   "source": [
    "df4"
   ]
  },
  {
   "cell_type": "code",
   "execution_count": 40,
   "metadata": {},
   "outputs": [
    {
     "data": {
      "text/plain": [
       "complex_id      3145\n",
       "venue_id        3145\n",
       "venue_name      3145\n",
       "city_name       3145\n",
       "country_name    3145\n",
       "country_code    3145\n",
       "timezone        3145\n",
       "dtype: int64"
      ]
     },
     "execution_count": 40,
     "metadata": {},
     "output_type": "execute_result"
    }
   ],
   "source": [
    "df4.count()"
   ]
  },
  {
   "cell_type": "code",
   "execution_count": 41,
   "metadata": {},
   "outputs": [],
   "source": [
    "df4.to_csv(\"table_4.csv\",index=False)"
   ]
  },
  {
   "cell_type": "markdown",
   "metadata": {},
   "source": [
    "Doubles Competitor Rankings"
   ]
  },
  {
   "cell_type": "code",
   "execution_count": null,
   "metadata": {},
   "outputs": [],
   "source": [
    "import requests\n",
    "\n",
    "url = \"https://api.sportradar.com/tennis/trial/v3/en/double_competitors_rankings.json?api_key=IEpNyO2jLKc90B59huA9Jr4DfHTSvn5ZJpXDqE41\"\n",
    "\n",
    "headers = {\"accept\": \"application/json\"}\n",
    "\n",
    "response = requests.get(url, headers=headers)\n",
    "\n"
   ]
  },
  {
   "cell_type": "code",
   "execution_count": 43,
   "metadata": {},
   "outputs": [],
   "source": [
    "double=response.json()"
   ]
  },
  {
   "cell_type": "code",
   "execution_count": 44,
   "metadata": {},
   "outputs": [],
   "source": [
    "double_rank=[]"
   ]
  },
  {
   "cell_type": "code",
   "execution_count": 45,
   "metadata": {},
   "outputs": [],
   "source": [
    "for comp in double[\"rankings\"]:\n",
    "    for ranks in comp.get( \"competitor_rankings\",[]):\n",
    "        rank_info={\n",
    "            \"rank\":ranks[\"rank\"],\n",
    "            \"movement\":ranks[\"movement\"],\n",
    "            \"points\":ranks[\"points\"],\n",
    "            \"competitions_played\":ranks[\"competitions_played\"],\n",
    "            \"competitor_id\":ranks[\"competitor\"].get(\"id\")\n",
    "        }\n",
    "        double_rank.append(rank_info)"
   ]
  },
  {
   "cell_type": "code",
   "execution_count": 46,
   "metadata": {},
   "outputs": [],
   "source": [
    "df5=pd.DataFrame(double_rank)"
   ]
  },
  {
   "cell_type": "code",
   "execution_count": null,
   "metadata": {},
   "outputs": [],
   "source": [
    "df5"
   ]
  },
  {
   "cell_type": "code",
   "execution_count": 48,
   "metadata": {},
   "outputs": [
    {
     "data": {
      "text/plain": [
       "rank                   1000\n",
       "movement               1000\n",
       "points                 1000\n",
       "competitions_played    1000\n",
       "competitor_id          1000\n",
       "dtype: int64"
      ]
     },
     "execution_count": 48,
     "metadata": {},
     "output_type": "execute_result"
    }
   ],
   "source": [
    "df5.count()"
   ]
  },
  {
   "cell_type": "code",
   "execution_count": null,
   "metadata": {},
   "outputs": [],
   "source": [
    "df5"
   ]
  },
  {
   "cell_type": "code",
   "execution_count": 49,
   "metadata": {},
   "outputs": [],
   "source": [
    "df5.to_csv(\"table_5.csv\",index=False)"
   ]
  },
  {
   "cell_type": "markdown",
   "metadata": {},
   "source": [
    "Competitors Table"
   ]
  },
  {
   "cell_type": "code",
   "execution_count": 50,
   "metadata": {},
   "outputs": [],
   "source": [
    "comp1=[]"
   ]
  },
  {
   "cell_type": "code",
   "execution_count": 51,
   "metadata": {},
   "outputs": [],
   "source": [
    "for comp in double[\"rankings\"]:\n",
    "    for ranks in comp.get( \"competitor_rankings\",[]):\n",
    "        compx_info={\n",
    "            \"competitor_id\":ranks[\"competitor\"].get(\"id\"),\n",
    "            \"name\":ranks[\"competitor\"].get(\"name\"),\n",
    "            \"country\":ranks[\"competitor\"].get(\"country\"),\n",
    "            \"country_code\":ranks[\"competitor\"].get(\"country_code\"),\n",
    "            \"abbreviation\":ranks[\"competitor\"].get(\"abbreviation\")\n",
    "        }\n",
    "        comp1.append(compx_info)\n"
   ]
  },
  {
   "cell_type": "code",
   "execution_count": 52,
   "metadata": {},
   "outputs": [],
   "source": [
    "df6=pd.DataFrame(comp1)"
   ]
  },
  {
   "cell_type": "code",
   "execution_count": null,
   "metadata": {},
   "outputs": [],
   "source": [
    "df6"
   ]
  },
  {
   "cell_type": "code",
   "execution_count": 56,
   "metadata": {},
   "outputs": [
    {
     "data": {
      "text/plain": [
       "competitor_id    1000\n",
       "name             1000\n",
       "country          1000\n",
       "country_code     1000\n",
       "abbreviation     1000\n",
       "dtype: int64"
      ]
     },
     "execution_count": 56,
     "metadata": {},
     "output_type": "execute_result"
    }
   ],
   "source": [
    "df6.count()"
   ]
  },
  {
   "cell_type": "code",
   "execution_count": 55,
   "metadata": {},
   "outputs": [],
   "source": [
    "df6.fillna(\"NULL\",inplace=True)"
   ]
  },
  {
   "cell_type": "code",
   "execution_count": 58,
   "metadata": {},
   "outputs": [],
   "source": [
    "df6.to_csv(\"table_6.csv\",index=False)"
   ]
  },
  {
   "cell_type": "code",
   "execution_count": 59,
   "metadata": {},
   "outputs": [
    {
     "name": "stdout",
     "output_type": "stream",
     "text": [
      "Requirement already satisfied: mysql-connector-python in c:\\users\\abuha\\appdata\\local\\programs\\python\\python313\\lib\\site-packages (9.1.0)\n"
     ]
    }
   ],
   "source": [
    "!pip install mysql-connector-python"
   ]
  },
  {
   "cell_type": "code",
   "execution_count": 1,
   "metadata": {},
   "outputs": [
    {
     "name": "stdout",
     "output_type": "stream",
     "text": [
      "<mysql.connector.connection.MySQLConnection object at 0x0000015620DC3E00>\n"
     ]
    }
   ],
   "source": [
    "import mysql.connector\n",
    "\n",
    "\n",
    "\n",
    "\n",
    "connection= mysql.connector.connect(\n",
    " host= \"localhost\",\n",
    " user= \"root\",\n",
    " password=\"\",\n",
    " database=\"tennis\"\n",
    "\n",
    "\n",
    ")\n",
    "\n",
    "\n",
    "print(connection)\n",
    "mycursor = connection.cursor()"
   ]
  },
  {
   "cell_type": "markdown",
   "metadata": {},
   "source": [
    "Data Analysis:\n",
    "       Execute the Following SQL queries;\n",
    "1) List all competitions along with their category name\n",
    "2) Count the number of competitions in each category\n",
    "3) Find all competitions of type 'doubles'\n",
    "4) Get competitions that belong to a specific category (e.g., ITF Men)\n",
    "5) Identify parent competitions and their sub-competitions\n",
    "6) Analyze the distribution of competition types by category\n",
    "7) List all competitions with no parent (top-level competitions)\n"
   ]
  },
  {
   "cell_type": "code",
   "execution_count": 2,
   "metadata": {},
   "outputs": [
    {
     "name": "stdout",
     "output_type": "stream",
     "text": [
      "Requirement already satisfied: tabulate in c:\\users\\abuha\\appdata\\local\\programs\\python\\python313\\lib\\site-packages (0.9.0)\n"
     ]
    }
   ],
   "source": [
    "!pip install tabulate"
   ]
  },
  {
   "cell_type": "code",
   "execution_count": null,
   "metadata": {},
   "outputs": [],
   "source": [
    "#1) List all competitions along with their category name\n",
    "mycursor.execute(\"\"\"SELECT table_1.name,table_2.category_name FROM table_1\n",
    "                  INNER JOIN table_2 ON table_1.category_id = table_2.category_id;\"\"\")\n",
    "out=mycursor.fetchall()\n",
    "from tabulate import tabulate\n",
    "print(tabulate(out,headers=[i[0] for i in mycursor.description],  tablefmt='psql'))"
   ]
  },
  {
   "cell_type": "code",
   "execution_count": null,
   "metadata": {},
   "outputs": [],
   "source": [
    "#2)Count the number of competitions in each category\n",
    "mycursor.execute(\"\"\"SELECT category_name, COUNT(name) \n",
    "FROM (\n",
    "    SELECT \n",
    "        table_1.name, \n",
    "        table_2.category_name\n",
    "    FROM table_1\n",
    "    INNER JOIN table_2\n",
    "    ON table_1.category_id = table_2.category_id\n",
    ") AS combined_table\n",
    "GROUP BY category_name ORDER BY COUNT(name)\"\"\")\n",
    "out=mycursor.fetchall()\n",
    "from tabulate import tabulate\n",
    "print(tabulate(out,headers=[i[0] for i in mycursor.description],  tablefmt='psql'))"
   ]
  },
  {
   "cell_type": "code",
   "execution_count": null,
   "metadata": {},
   "outputs": [],
   "source": [
    "#3) Find all competitions of type 'doubles'\n",
    "mycursor.execute(\"select type,name from table_1 where type='doubles' \")\n",
    "out=mycursor.fetchall()\n",
    "from tabulate import tabulate\n",
    "print(tabulate(out,headers=[i[0] for i in mycursor.description],  tablefmt='psql'))"
   ]
  },
  {
   "cell_type": "code",
   "execution_count": null,
   "metadata": {},
   "outputs": [],
   "source": [
    "#4) Get competitions that belong to a specific category (e.g., ITF Men)\n",
    "mycursor.execute(\"\"\"select name,category_name from (\n",
    "                 SELECT \n",
    "                table_1.name, \n",
    "                table_2.category_name\n",
    "                FROM table_1\n",
    "                INNER JOIN table_2\n",
    "                ON table_1.category_id = table_2.category_id) AS joint\n",
    "                where category_name='ITF Men' \"\"\")\n",
    "out=mycursor.fetchall()\n",
    "from tabulate import tabulate\n",
    "print(tabulate(out,headers=[i[0] for i in mycursor.description],  tablefmt='psql'))"
   ]
  },
  {
   "cell_type": "code",
   "execution_count": null,
   "metadata": {},
   "outputs": [],
   "source": [
    "#5) Identify parent competitions and their sub-competitions\n",
    "mycursor.execute(\"SELECT parent_id, category_id from table_1\")\n",
    "out=mycursor.fetchall()\n",
    "from tabulate import tabulate\n",
    "print(tabulate(out,headers=[i[0] for i in mycursor.description],  tablefmt='psql'))"
   ]
  },
  {
   "cell_type": "code",
   "execution_count": null,
   "metadata": {},
   "outputs": [],
   "source": [
    "#6) Analyze the distribution of competition types by category\n",
    "\n",
    "mycursor.execute(\"SELECT category_id,name, count(name) from table_1 group by category_id\")\n",
    "out=mycursor.fetchall()\n",
    "from tabulate import tabulate\n",
    "print(tabulate(out,headers=[i[0] for i in mycursor.description],  tablefmt='psql'))"
   ]
  },
  {
   "cell_type": "code",
   "execution_count": null,
   "metadata": {},
   "outputs": [],
   "source": [
    "#7) Identify parent competitions and their sub-competitions\n",
    "mycursor.execute(\"SELECT name AS comprtition_list from table_1 WHERE parent_id ='NOT' \")\n",
    "out=mycursor.fetchall()\n",
    "from tabulate import tabulate\n",
    "print(tabulate(out,headers=[i[0] for i in mycursor.description],  tablefmt='psql'))"
   ]
  },
  {
   "cell_type": "code",
   "execution_count": null,
   "metadata": {},
   "outputs": [],
   "source": [
    "#1)List all venues along with their associated complex name\n",
    "mycursor.execute(\"\"\"SELECT table_4.venue_name,table_3.complex_name FROM table_4 \n",
    "                 inner join table_3 ON table_4.complex_id=table_3.complex_id\"\"\")\n",
    "out=mycursor.fetchall()\n",
    "from tabulate import tabulate\n",
    "print(tabulate(out,headers=[i[0] for i in mycursor.description],  tablefmt='psql'))"
   ]
  },
  {
   "cell_type": "code",
   "execution_count": null,
   "metadata": {},
   "outputs": [],
   "source": [
    "#2Count the number of venues in each complex\n",
    "mycursor.execute(\"\"\" SELECT \n",
    "    table_3.complex_name, \n",
    "    COUNT(table_4.venue_name) AS venue_count\n",
    "FROM \n",
    "    table_4\n",
    "JOIN \n",
    "    table_3\n",
    "ON \n",
    "    table_4.complex_id = table_3.complex_id\n",
    "GROUP BY \n",
    "    table_3.complex_name order by venue_count ;\n",
    " \"\"\")\n",
    "out=mycursor.fetchall()\n",
    "from tabulate import tabulate\n",
    "print(tabulate(out,headers=[i[0] for i in mycursor.description],  tablefmt='psql'))"
   ]
  },
  {
   "cell_type": "code",
   "execution_count": null,
   "metadata": {},
   "outputs": [],
   "source": [
    "#3)Get details of venues in a specific country (e.g., Chile)\n",
    "mycursor.execute(\"SELECT country_name,venue_id,venue_name,city_name,country_code,timezone from table_4 WHERE country_name='Chile' \")\n",
    "out=mycursor.fetchall()\n",
    "from tabulate import tabulate\n",
    "print(tabulate(out,headers=[i[0] for i in mycursor.description],  tablefmt='psql'))"
   ]
  },
  {
   "cell_type": "code",
   "execution_count": null,
   "metadata": {},
   "outputs": [],
   "source": [
    "#4)Identify all venues and their timezones\n",
    "mycursor.execute(\"SELECT venue_name, timezone FROM table_4 \")\n",
    "out=mycursor.fetchall()\n",
    "from tabulate import tabulate\n",
    "print(tabulate(out,headers=[i[0] for i in mycursor.description],  tablefmt='psql'))"
   ]
  },
  {
   "cell_type": "code",
   "execution_count": null,
   "metadata": {},
   "outputs": [],
   "source": [
    "#5)Find complexes that have more than one venue\n",
    "mycursor.execute(\"\"\"SELECT complex_id FROM (SELECT COUNT(venue_id) as venue_id_count, complex_id FROM table_4 GROUP BY complex_id) \n",
    "                 AS childquery\n",
    "                  WHERE venue_id_count>1 \"\"\")\n",
    "out=mycursor.fetchall()\n",
    "from tabulate import tabulate\n",
    "print(tabulate(out,headers=[i[0] for i in mycursor.description],  tablefmt='psql'))"
   ]
  },
  {
   "cell_type": "code",
   "execution_count": null,
   "metadata": {},
   "outputs": [],
   "source": [
    "#6)List venues grouped by country\n",
    "mycursor.execute(\"SELECT country_name, GROUP_CONCAT(venue_name) AS venues FROM table_4 GROUP BY country_name ;\")\n",
    "out=mycursor.fetchall()\n",
    "from tabulate import tabulate\n",
    "print(tabulate(out,headers=[i[0] for i in mycursor.description],  tablefmt='psql'))"
   ]
  },
  {
   "cell_type": "code",
   "execution_count": null,
   "metadata": {},
   "outputs": [],
   "source": [
    "#7)Find all venues for a specific complex (e.g., Nacional)\n",
    "mycursor.execute(\"\"\"SELECT venue_name,complex_name FROM (SELECT table_4.venue_name,table_3.complex_name FROM table_4\n",
    "                 inner join table_3 ON table_4.complex_id=table_3.complex_id) AS joined_table WHERE complex_name='Porsche-Arena';\"\"\")\n",
    "out=mycursor.fetchall()\n",
    "from tabulate import tabulate\n",
    "print(tabulate(out,headers=[i[0] for i in mycursor.description],  tablefmt='psql'))"
   ]
  },
  {
   "cell_type": "code",
   "execution_count": null,
   "metadata": {},
   "outputs": [],
   "source": [
    "#1)Get all competitors with their rank and points.\n",
    "mycursor.execute(\"\"\"SELECT table_6.name,table_5.rank,table_5.points\n",
    "                FROM table_6 inner join table_5 ON \n",
    "                 table_6.competitor_id=table_5.competitor_id\"\"\")\n",
    "out=mycursor.fetchall()\n",
    "from tabulate import tabulate\n",
    "print(tabulate(out,headers=[i[0] for i in mycursor.description],  tablefmt='psql'))"
   ]
  },
  {
   "cell_type": "code",
   "execution_count": null,
   "metadata": {},
   "outputs": [],
   "source": [
    "#Find competitors ranked in the top 5\n",
    "mycursor.execute(\"\"\"SELECT table_6.name,table_5.rank\n",
    "                FROM table_6 inner join table_5 ON \n",
    "                 table_6.competitor_id=table_5.competitor_id ORDER BY rank LIMIT 5\"\"\")\n",
    "out=mycursor.fetchall()\n",
    "from tabulate import tabulate\n",
    "print(tabulate(out,headers=[i[0] for i in mycursor.description],  tablefmt='psql'))"
   ]
  },
  {
   "cell_type": "code",
   "execution_count": null,
   "metadata": {},
   "outputs": [],
   "source": [
    "#3)List competitors with no rank movement (stable rank)\n",
    "mycursor.execute(\"\"\"SELECT table_6.name, table_5.rank\n",
    "FROM table_6\n",
    "INNER JOIN table_5 \n",
    "    ON table_6.competitor_id = table_5.competitor_id\n",
    "WHERE table_5.rank = table_5.rank\n",
    "ORDER BY rank\"\"\")\n",
    "out=mycursor.fetchall()\n",
    "from tabulate import tabulate\n",
    "print(tabulate(out,headers=[i[0] for i in mycursor.description],  tablefmt='psql'))"
   ]
  },
  {
   "cell_type": "code",
   "execution_count": 82,
   "metadata": {},
   "outputs": [
    {
     "name": "stdout",
     "output_type": "stream",
     "text": [
      "+-----------+-----------------+\n",
      "| country   |   sum_of_points |\n",
      "|-----------+-----------------|\n",
      "| USA       |           88009 |\n",
      "+-----------+-----------------+\n"
     ]
    }
   ],
   "source": [
    "#4)Get the total points of competitors from a specific country (e.g., Croatia)\n",
    "mycursor.execute(\"\"\"SELECT  country, sum(points) AS sum_of_points FROM (SELECT table_6.country,table_5.points\n",
    "                FROM table_6 inner join table_5 ON \n",
    "                 table_6.competitor_id=table_5.competitor_id) AS NEWTABLE WHERE country = 'USA' \"\"\")\n",
    "out=mycursor.fetchall()\n",
    "from tabulate import tabulate\n",
    "print(tabulate(out,headers=[i[0] for i in mycursor.description],  tablefmt='psql'))"
   ]
  },
  {
   "cell_type": "code",
   "execution_count": null,
   "metadata": {},
   "outputs": [],
   "source": [
    "#5)Count the number of competitors per country\n",
    "mycursor.execute(\"SELECT country,COUNT(name) AS Total_competitor from table_6 group by country order by Total_competitor DESC\")\n",
    "out=mycursor.fetchall()\n",
    "from tabulate import tabulate\n",
    "print(tabulate(out,headers=[i[0] for i in mycursor.description],  tablefmt='psql'))"
   ]
  },
  {
   "cell_type": "code",
   "execution_count": 86,
   "metadata": {},
   "outputs": [
    {
     "name": "stdout",
     "output_type": "stream",
     "text": [
      "+--------------+\n",
      "|   APEX_POINT |\n",
      "|--------------|\n",
      "|         9530 |\n",
      "+--------------+\n"
     ]
    }
   ],
   "source": [
    "#6Find competitors with the highest points in the current week\n",
    "mycursor.execute(\"SELECT max(points) AS APEX_POINT from TABLE_5\")\n",
    "out=mycursor.fetchall()\n",
    "from tabulate import tabulate\n",
    "print(tabulate(out,headers=[i[0] for i in mycursor.description],  tablefmt='psql'))"
   ]
  },
  {
   "cell_type": "code",
   "execution_count": null,
   "metadata": {},
   "outputs": [],
   "source": []
  }
 ],
 "metadata": {
  "kernelspec": {
   "display_name": "Python 3",
   "language": "python",
   "name": "python3"
  },
  "language_info": {
   "codemirror_mode": {
    "name": "ipython",
    "version": 3
   },
   "file_extension": ".py",
   "mimetype": "text/x-python",
   "name": "python",
   "nbconvert_exporter": "python",
   "pygments_lexer": "ipython3",
   "version": "3.13.0"
  }
 },
 "nbformat": 4,
 "nbformat_minor": 2
}
